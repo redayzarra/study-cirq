{
 "cells": [
  {
   "cell_type": "markdown",
   "id": "b2a368ed",
   "metadata": {},
   "source": [
    "# Notes: Circuit Manipulation"
   ]
  },
  {
   "cell_type": "markdown",
   "id": "7dc1ff4a",
   "metadata": {},
   "source": [
    "### by ReDay Zarra"
   ]
  },
  {
   "cell_type": "markdown",
   "id": "3184a087",
   "metadata": {},
   "source": [
    "## Setup"
   ]
  },
  {
   "cell_type": "code",
   "execution_count": 1,
   "id": "d75b14cb",
   "metadata": {},
   "outputs": [
    {
     "name": "stdout",
     "output_type": "stream",
     "text": [
      "3.9.17 (main, Jun  6 2023, 20:11:21) \n",
      "[GCC 11.3.0]\n"
     ]
    }
   ],
   "source": [
    "import sys\n",
    "print(sys.version)"
   ]
  },
  {
   "cell_type": "code",
   "execution_count": 2,
   "id": "0fa2fa3d",
   "metadata": {},
   "outputs": [
    {
     "data": {
      "text/plain": [
       "<module 'pkg_resources' from '/usr/lib/python3/dist-packages/pkg_resources/__init__.py'>"
      ]
     },
     "execution_count": 2,
     "metadata": {},
     "output_type": "execute_result"
    }
   ],
   "source": [
    "import importlib, pkg_resources\n",
    "importlib.reload(pkg_resources)"
   ]
  },
  {
   "cell_type": "code",
   "execution_count": 3,
   "id": "b3c499bc",
   "metadata": {},
   "outputs": [
    {
     "name": "stderr",
     "output_type": "stream",
     "text": [
      "2023-07-02 12:56:37.121980: W tensorflow/stream_executor/platform/default/dso_loader.cc:64] Could not load dynamic library 'libcudart.so.11.0'; dlerror: libcudart.so.11.0: cannot open shared object file: No such file or directory\n",
      "2023-07-02 12:56:37.122029: I tensorflow/stream_executor/cuda/cudart_stub.cc:29] Ignore above cudart dlerror if you do not have a GPU set up on your machine.\n",
      "/usr/lib/python3/dist-packages/pkg_resources/__init__.py:116: PkgResourcesDeprecationWarning: 1.1build1 is an invalid version and will not be supported in a future release\n",
      "  warnings.warn(\n",
      "2023-07-02 12:56:41.693866: W tensorflow/stream_executor/platform/default/dso_loader.cc:64] Could not load dynamic library 'libcuda.so.1'; dlerror: libcuda.so.1: cannot open shared object file: No such file or directory\n",
      "2023-07-02 12:56:41.693932: W tensorflow/stream_executor/cuda/cuda_driver.cc:269] failed call to cuInit: UNKNOWN ERROR (303)\n",
      "2023-07-02 12:56:41.693976: I tensorflow/stream_executor/cuda/cuda_diagnostics.cc:156] kernel driver does not appear to be running on this host (Bruno): /proc/driver/nvidia/version does not exist\n",
      "2023-07-02 12:56:41.694388: I tensorflow/core/platform/cpu_feature_guard.cc:151] This TensorFlow binary is optimized with oneAPI Deep Neural Network Library (oneDNN) to use the following CPU instructions in performance-critical operations:  AVX2 FMA\n",
      "To enable them in other operations, rebuild TensorFlow with the appropriate compiler flags.\n"
     ]
    }
   ],
   "source": [
    "import tensorflow as tf\n",
    "import tensorflow_quantum as tfq\n",
    "\n",
    "import cirq\n",
    "import sympy\n",
    "import numpy as np"
   ]
  },
  {
   "cell_type": "code",
   "execution_count": 4,
   "id": "cdabe4fc",
   "metadata": {},
   "outputs": [],
   "source": [
    "# Visualization tools: matplotlib and Cirq's svg circuit\n",
    "%matplotlib inline\n",
    "import matplotlib.pyplot as plt\n",
    "from cirq.contrib.svg import SVGCircuit"
   ]
  },
  {
   "cell_type": "code",
   "execution_count": 5,
   "id": "75e1ccd8",
   "metadata": {
    "scrolled": true
   },
   "outputs": [
    {
     "name": "stdout",
     "output_type": "stream",
     "text": [
      "TensorFlow version:  2.7.0\n",
      "TensorFlow Quantum version:  0.7.2\n",
      "Cirq version:  1.1.0\n"
     ]
    }
   ],
   "source": [
    "print(\"TensorFlow version: \", tf.__version__)\n",
    "print(\"TensorFlow Quantum version: \", tfq.__version__)\n",
    "print(\"Cirq version: \", cirq.__version__)"
   ]
  },
  {
   "cell_type": "markdown",
   "id": "74fd7c87",
   "metadata": {},
   "source": [
    "## Circuit Manipulation"
   ]
  },
  {
   "cell_type": "markdown",
   "id": "e53cf407",
   "metadata": {},
   "source": [
    "### Patterns for Arguments"
   ]
  },
  {
   "cell_type": "markdown",
   "id": "668b8ad2",
   "metadata": {},
   "source": [
    "Generator: a Python function that uses the yield keyword to return an iterable sequence of items.\n",
    "\n",
    "In Cirq, `my_layer()` is a generator function that yields a sequence of operations and collections of operations. Each `yield` statement in the function produces a new item in the sequence. These items can be individual operations, lists of operations, or nested lists of operations."
   ]
  },
  {
   "cell_type": "code",
   "execution_count": 8,
   "id": "9ba46ed9",
   "metadata": {},
   "outputs": [
    {
     "name": "stdout",
     "output_type": "stream",
     "text": [
      "CZ(q(0, 0), q(1, 0))\n",
      "[cirq.H(cirq.GridQubit(0, 0)), cirq.H(cirq.GridQubit(1, 0)), cirq.H(cirq.GridQubit(2, 0))]\n",
      "[cirq.CZ(cirq.GridQubit(1, 0), cirq.GridQubit(2, 0))]\n",
      "[cirq.H(cirq.GridQubit(0, 0)), [cirq.CZ(cirq.GridQubit(1, 0), cirq.GridQubit(2, 0))]]\n"
     ]
    }
   ],
   "source": [
    "# Define qubits\n",
    "q0, q1, q2 = [cirq.GridQubit(i, 0) for i in range(3)]\n",
    "\n",
    "# Produces a series of quantum operations and collections of operations.\n",
    "def my_layer():\n",
    "    yield cirq.CZ(q0, q1)\n",
    "    yield [cirq.H(q) for q in (q0, q1, q2)]\n",
    "    yield [cirq.CZ(q1, q2)]\n",
    "    yield [cirq.H(q0), [cirq.CZ(q1, q2)]]\n",
    "\n",
    "# Create new circuit and add all operations yielded by the generator\n",
    "circuit = cirq.Circuit()\n",
    "circuit.append(my_layer())\n",
    "\n",
    "for x in my_layer():\n",
    "    print(x)"
   ]
  },
  {
   "cell_type": "code",
   "execution_count": 9,
   "id": "338b5422",
   "metadata": {},
   "outputs": [
    {
     "name": "stdout",
     "output_type": "stream",
     "text": [
      "(0, 0): ───@───H───H───────\n",
      "           │\n",
      "(1, 0): ───@───H───@───@───\n",
      "                   │   │\n",
      "(2, 0): ───H───────@───@───\n"
     ]
    }
   ],
   "source": [
    "print(circuit)"
   ]
  },
  {
   "cell_type": "markdown",
   "id": "96b57141",
   "metadata": {},
   "source": [
    "The `Circuit.append` (or `Circuit.insert`) is able to accept an iterator and turn it into a simple, one-dimensional list of operations. This process is called \"**flattening**\", because it takes a potentially complex, multi-layered structure and **turns it into a simple list**.\n",
    "\n",
    "`cirq.OP_TREE`: it's a kind of contract or promise about the structure of the data. If you have an iterable structure (like a list, or a generator function) that **can be flattened into a list of operations** (or Moment objects, which are themselves just collections of operations), **then that structure is considered an** `OP_TREE`.\n",
    "\n",
    "**Sub-circuits**: is just a **part of a larger quantum circuit**, and a generator function is a convenient way to generate these sub-circuits on the fly. Because these generator functions can accept arguments, you can easily adjust the size of the sub-circuits or the parameters of the operations within them, which can make your code much more flexible and powerful."
   ]
  },
  {
   "cell_type": "code",
   "execution_count": 11,
   "id": "ab6cf96b",
   "metadata": {},
   "outputs": [
    {
     "name": "stdout",
     "output_type": "stream",
     "text": [
      "(0, 0): ───H───\n",
      "\n",
      "(1, 0): ───H───\n"
     ]
    }
   ],
   "source": [
    "circuit = cirq.Circuit(cirq.H(q0), cirq.H(q1))\n",
    "print(circuit)"
   ]
  },
  {
   "cell_type": "markdown",
   "id": "1f824f80",
   "metadata": {},
   "source": [
    "### Slicing and Iterating"
   ]
  },
  {
   "cell_type": "markdown",
   "id": "924032c4",
   "metadata": {},
   "source": [
    "In Cirq, you can **iterate through every moment within the circuit with a simple** `for` **loop**. Similar to how you can iterate a list of elements. "
   ]
  },
  {
   "cell_type": "code",
   "execution_count": 28,
   "id": "e75886b8",
   "metadata": {},
   "outputs": [
    {
     "name": "stdout",
     "output_type": "stream",
     "text": [
      "Moment #1\n",
      "  ╷ 0\n",
      "╶─┼───\n",
      "0 │ H\n",
      "  │\n",
      "\n",
      "\n",
      "Moment #2\n",
      "  ╷ 0\n",
      "╶─┼───\n",
      "0 │ @\n",
      "  │ │\n",
      "1 │ @\n",
      "  │\n",
      "\n",
      "\n"
     ]
    }
   ],
   "source": [
    "# Create a circuit with an OP_TREE inside\n",
    "circuit = cirq.Circuit(cirq.H(q0), cirq.CZ(q0, q1))\n",
    "\n",
    "# Print every moment in the circuit\n",
    "for index, moment in enumerate(circuit):\n",
    "    print(f\"Moment #{index + 1}\")\n",
    "    print(moment)\n",
    "    print(\"\\n\")"
   ]
  },
  {
   "cell_type": "markdown",
   "id": "a3568bba",
   "metadata": {},
   "source": [
    "Circuits in Cirq **can be sliced just like Python lists or arrays**. Each slice operation on a Circuit **returns a new Circuit** that contains only the moments within the specified range."
   ]
  },
  {
   "cell_type": "code",
   "execution_count": 21,
   "id": "b3fff063",
   "metadata": {},
   "outputs": [
    {
     "name": "stdout",
     "output_type": "stream",
     "text": [
      "(0, 0): ───@───────\n",
      "           │\n",
      "(1, 0): ───@───H───\n"
     ]
    }
   ],
   "source": [
    "# Create a ciruit with an OP_TREE inside\n",
    "circuit = cirq.Circuit(cirq.H(q0), cirq.CZ(q0, q1), cirq.H(q1), cirq.CZ(q0, q1))\n",
    "\n",
    "# Print a new circuit with only the second and thrid moment inside\n",
    "print(circuit[1:3])"
   ]
  },
  {
   "cell_type": "markdown",
   "id": "93e0ad48",
   "metadata": {},
   "source": [
    "### Circuit Operations"
   ]
  },
  {
   "cell_type": "markdown",
   "id": "97de65f0",
   "metadata": {},
   "source": [
    "`cirq.CircuitOperation`: used to encapsulate a `cirq.Circuit` **as an operation that can be inserted into another** `cirq.Circuit`. This is useful because it allows you to **reuse defined sub-circuits** and significantly simplifies the construction of large, repetitive quantum circuits.\n",
    "\n",
    "`Circuit.freeze()`: Freezing a circuit **signifies that we're done modifying the sub-circuit** and it is **ready to be used as** a `cirq.CircuitOperation`. Freezing is important especially in terms of serialization, which is the process of converting the circuit's state to a format that can be stored or transmitted and reconstructed later."
   ]
  },
  {
   "cell_type": "code",
   "execution_count": 22,
   "id": "fe2be927",
   "metadata": {
    "scrolled": true
   },
   "outputs": [
    {
     "name": "stdout",
     "output_type": "stream",
     "text": [
      "               [ (0, 0): ───────@─────────── ]\n",
      "               [                │            ]\n",
      "(0, 0): ───H───[ (1, 0): ───H───@───@───H─── ]───\n",
      "               [                    │        ]\n",
      "               [ (2, 0): ───────────@─────── ]\n",
      "               │\n",
      "(1, 0): ───────#2────────────────────────────────\n",
      "               │\n",
      "(2, 0): ───H───#3────────────────────────────────\n"
     ]
    }
   ],
   "source": [
    "# Create a subcircuit containing operations\n",
    "subcircuit = cirq.Circuit(cirq.H(q1), cirq.CZ(q0, q1), cirq.CZ(q2, q1), cirq.H(q1))\n",
    "\n",
    "# Freeze the circuit - indicates that we are done modifying it\n",
    "subcircuit_op = cirq.CircuitOperation(subcircuit.freeze())\n",
    "\n",
    "# Insert subcircuit_op to main circuit with other operations\n",
    "circuit = cirq.Circuit(cirq.H(q0), cirq.H(q2), subcircuit_op)\n",
    "print(circuit)"
   ]
  },
  {
   "cell_type": "markdown",
   "id": "265158de",
   "metadata": {},
   "source": [
    "### Frozen Circuit"
   ]
  },
  {
   "cell_type": "markdown",
   "id": "0257ec9b",
   "metadata": {},
   "source": [
    "`cirq.FrozenCircuit`: a type of **circuit that is inherently immutable**, meaning it can't be modified once it's created. This is analogous to using the `freeze()` method on a regular `cirq.Circuit`."
   ]
  },
  {
   "cell_type": "code",
   "execution_count": 23,
   "id": "d6b66834",
   "metadata": {},
   "outputs": [
    {
     "name": "stdout",
     "output_type": "stream",
     "text": [
      "           [ (0, 0): ───────@─────────── ]\n",
      "           [                │            ]\n",
      "(0, 0): ───[ (1, 0): ───H───@───@───H─── ]───\n",
      "           [                    │        ]\n",
      "           [ (2, 0): ───────────@─────── ]\n",
      "           │\n",
      "(1, 0): ───#2────────────────────────────────\n",
      "           │\n",
      "(2, 0): ───#3────────────────────────────────\n"
     ]
    }
   ],
   "source": [
    "# Create a main circuit then add a frozen circuit (containing operations) inside\n",
    "circuit = cirq.Circuit(\n",
    "    cirq.CircuitOperation(\n",
    "        cirq.FrozenCircuit(cirq.H(q1), cirq.CZ(q0, q1), cirq.CZ(q2, q1), cirq.H(q1))\n",
    "    )\n",
    ")\n",
    "\n",
    "print(circuit)"
   ]
  },
  {
   "cell_type": "markdown",
   "id": "8bf51334",
   "metadata": {},
   "source": [
    "### Customized Circuit Operations"
   ]
  },
  {
   "cell_type": "markdown",
   "id": "d70e56d4",
   "metadata": {},
   "source": [
    "`cirq.CircuitOperation`: represents **a subcircuit that can be inserted into a larger circuit and customized** in a few ways. This is very useful in quantum circuits where certain sets of gates are repeated multiple times, possibly on different sets of qubits, as you don't need to redefine these sets of operations each time."
   ]
  },
  {
   "cell_type": "code",
   "execution_count": 30,
   "id": "0207e35d",
   "metadata": {
    "scrolled": true
   },
   "outputs": [
    {
     "name": "stdout",
     "output_type": "stream",
     "text": [
      "           [ (0, 0): ───@─── ]   [ (0, 0): ───@─── ]\n",
      "(0, 0): ───[            │    ]───[            │    ]────────────────────────────────────────────────────────────────\n",
      "           [ (1, 0): ───@─── ]   [ (1, 0): ───@─── ](loops=2)\n",
      "           │                     │\n",
      "(1, 0): ───#2────────────────────#2─────────────────────────────#2──────────────────────────────────────────────────\n",
      "                                                                │\n",
      "                                                                [ (0, 0): ───@─── ]\n",
      "(2, 0): ────────────────────────────────────────────────────────[            │    ]─────────────────────────────────\n",
      "                                                                [ (1, 0): ───@─── ](qubit_map={q(0, 0): q(2, 0)})\n"
     ]
    }
   ],
   "source": [
    "# Create a CircuitOperation\n",
    "subcircuit_op = cirq.CircuitOperation(cirq.FrozenCircuit(cirq.CZ(q0, q1)))\n",
    "\n",
    "# Create a new CircuitOperation that represents the same circuit repeated twice\n",
    "repeated_subcircuit_op = subcircuit_op.repeat(2)\n",
    "\n",
    "# Create a new CircuitOperation that applies operation to different qubits: q0 => q2\n",
    "moved_subcircuit_op = subcircuit_op.with_qubit_mapping({q0: q2})\n",
    "\n",
    "# Build a main circuit containing all of the above inside\n",
    "circuit = cirq.Circuit(subcircuit_op, repeated_subcircuit_op, moved_subcircuit_op)\n",
    "print(circuit)"
   ]
  },
  {
   "cell_type": "markdown",
   "id": "178b0d7f",
   "metadata": {},
   "source": [
    "### Simultaneous Circuit Operations"
   ]
  },
  {
   "cell_type": "markdown",
   "id": "63388133",
   "metadata": {},
   "source": [
    "In Cirq, a `CircuitOperation` is a special type of operation that **encapsulates a** `Circuit` **as its unit of operation**. This means that instead of performing a single gate or operation, a `CircuitOperation` **can execute a whole circuit on its assigned qubits.**\n",
    "\n",
    "The `CircuitOperation` **can be placed in any** `Moment` **that does not already contain operations on its qubits**, much like a regular operation. Therefore, `CircuitOperation` can be used to depict complex operation timings."
   ]
  },
  {
   "cell_type": "code",
   "execution_count": 32,
   "id": "96280f11",
   "metadata": {},
   "outputs": [
    {
     "name": "stdout",
     "output_type": "stream",
     "text": [
      "(0, 0): ───[ (0, 0): ───H─── ](loops=3)─────────────────────────────────\n",
      "\n",
      "(1, 0): ───[ (0, 0): ───H─── ](qubit_map={q(0, 0): q(1, 0)}, loops=2)───\n"
     ]
    }
   ],
   "source": [
    "# Create a CircuitOperation \n",
    "subcircuit_op = cirq.CircuitOperation(cirq.FrozenCircuit(cirq.H(q0)))\n",
    "\n",
    "# Build a main circuit containing customized CircuitOperations\n",
    "circuit = cirq.Circuit(\n",
    "    subcircuit_op.repeat(3), subcircuit_op.repeat(2).with_qubit_mapping({q0:q1})\n",
    ")\n",
    "\n",
    "print(circuit)"
   ]
  },
  {
   "cell_type": "markdown",
   "id": "6e30f208",
   "metadata": {},
   "source": [
    "Even though the circuits are repeated a different number of times, **they both belong to the same** `Moment` **in the circuit**. This means **they are conceptually executed in parallel, or at the same time**. This is because, from a programming perspective, **the operations are just instructions to be executed**, and we can add them to the same `Moment` regardless of how many times they are repeated.\n",
    "\n",
    "**However**, when you run this circuit on actual quantum hardware or a simulator, **it may not necessarily hold true that they are executed simultaneously**.\n",
    "\n",
    "This means that while you can conceptually think of all operations within a `Moment` as happening simultaneously, the actual execution on hardware or a simulator might not strictly adhere to this concept."
   ]
  },
  {
   "cell_type": "markdown",
   "id": "72bc88bf",
   "metadata": {},
   "source": [
    "### Nested Circuit Operations"
   ]
  },
  {
   "cell_type": "markdown",
   "id": "3ab2d39c",
   "metadata": {},
   "source": [
    "Nesting `CircuitOperation`s can be used to **build higher-level structures out of simpler ones**. This allows for the reuse of smaller, modular pieces of a quantum circuit, which can simplify the representation of complex circuits."
   ]
  },
  {
   "cell_type": "code",
   "execution_count": 36,
   "id": "14c35751",
   "metadata": {},
   "outputs": [
    {
     "name": "stdout",
     "output_type": "stream",
     "text": [
      "Original qft_3 CircuitOperation: \n",
      "\n",
      "[                                [ (0, 0): ───────@───────[ (0, 0): ───H─── ]─── ]    ]\n",
      "[ (0, 0): ───────────────@───────[                │                              ]─── ]\n",
      "[                        │       [ (1, 0): ───H───@^0.5───────────────────────── ]    ]\n",
      "[                        │       │                                                    ]\n",
      "[ (1, 0): ───────@───────┼───────#2────────────────────────────────────────────────── ]\n",
      "[                │       │                                                            ]\n",
      "[ (2, 0): ───H───@^0.5───@^0.5─────────────────────────────────────────────────────── ]\n"
     ]
    }
   ],
   "source": [
    "# Create CircuitOperations containing each other\n",
    "qft_1 = cirq.CircuitOperation(cirq.FrozenCircuit(cirq.H(q0)))\n",
    "\n",
    "qft_2 = cirq.CircuitOperation(cirq.FrozenCircuit(cirq.H(q1), cirq.CZ(q0, q1) ** 0.5, qft_1))\n",
    "\n",
    "qft_3 = cirq.CircuitOperation(\n",
    "    cirq.FrozenCircuit(cirq.H(q2), cirq.CZ(q1, q2) ** 0.5, cirq.CZ(q0, q2) ** 0.5, qft_2)\n",
    ")\n",
    "\n",
    "print(\"Original qft_3 CircuitOperation: \\n\")\n",
    "print(qft_3)"
   ]
  },
  {
   "cell_type": "markdown",
   "id": "faf6a04c",
   "metadata": {},
   "source": [
    "### Mapped Circuit"
   ]
  },
  {
   "cell_type": "markdown",
   "id": "cdf56093",
   "metadata": {},
   "source": [
    "`mapped_circuit`: a way of **visualizing the** `CircuitOperation` **as a regular** `Circuit`, with all the mappings and repetitions of its operations applied. This provides a way to **see what the actual quantum circuit would look like**, given the nested CircuitOperation and any modifications like qubit remapping and operation repetition."
   ]
  },
  {
   "cell_type": "code",
   "execution_count": 37,
   "id": "75228261",
   "metadata": {},
   "outputs": [
    {
     "name": "stdout",
     "output_type": "stream",
     "text": [
      "Single layer unroll: \n",
      "\n",
      "                               [ (0, 0): ───────@───────[ (0, 0): ───H─── ]─── ]\n",
      "(0, 0): ───────────────@───────[                │                              ]───\n",
      "                       │       [ (1, 0): ───H───@^0.5───────────────────────── ]\n",
      "                       │       │\n",
      "(1, 0): ───────@───────┼───────#2──────────────────────────────────────────────────\n",
      "               │       │\n",
      "(2, 0): ───H───@^0.5───@^0.5───────────────────────────────────────────────────────\n"
     ]
    }
   ],
   "source": [
    "# Unroll the outermost layer of qft_3 CircuitOperation to a normal circuit\n",
    "print(\"Single layer unroll: \\n\")\n",
    "print(qft_3.mapped_circuit(deep = False))"
   ]
  },
  {
   "cell_type": "markdown",
   "id": "64d1099d",
   "metadata": {},
   "source": [
    "This prints the **circuit obtained by unrolling a single layer of** `qft_3`. Any `CircuitOperation`s nested inside `qft_3` are still shown as `CircuitOperation`s, without their individual operations being shown explicitly."
   ]
  },
  {
   "cell_type": "code",
   "execution_count": 38,
   "id": "95f879b1",
   "metadata": {},
   "outputs": [
    {
     "name": "stdout",
     "output_type": "stream",
     "text": [
      "Recursive unroll: \n",
      "\n",
      "(0, 0): ───────────────@───────────@───────H───\n",
      "                       │           │\n",
      "(1, 0): ───────@───────┼───────H───@^0.5───────\n",
      "               │       │\n",
      "(2, 0): ───H───@^0.5───@^0.5───────────────────\n"
     ]
    }
   ],
   "source": [
    "# Unroll all of the CircuitOperations recursively in qft_3\n",
    "print(\"Recursive unroll: \\n\")\n",
    "print(qft_3.mapped_circuit(deep = True))"
   ]
  }
 ],
 "metadata": {
  "kernelspec": {
   "display_name": "Python 3 (ipykernel)",
   "language": "python",
   "name": "python3"
  },
  "language_info": {
   "codemirror_mode": {
    "name": "ipython",
    "version": 3
   },
   "file_extension": ".py",
   "mimetype": "text/x-python",
   "name": "python",
   "nbconvert_exporter": "python",
   "pygments_lexer": "ipython3",
   "version": "3.9.17"
  }
 },
 "nbformat": 4,
 "nbformat_minor": 5
}
